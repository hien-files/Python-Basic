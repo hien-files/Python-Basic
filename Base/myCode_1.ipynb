{
 "cells": [
  {
   "attachments": {},
   "cell_type": "markdown",
   "metadata": {},
   "source": [
    "## 1. Số phức"
   ]
  },
  {
   "cell_type": "code",
   "execution_count": 1,
   "metadata": {},
   "outputs": [
    {
     "name": "stdout",
     "output_type": "stream",
     "text": [
      "Phần thực 2.0, Phần ảo 3.0\n"
     ]
    }
   ],
   "source": [
    "z = complex(2, 3)\n",
    "\n",
    "print(f'Phần thực {z.real}, Phần ảo {z.imag}')"
   ]
  },
  {
   "attachments": {},
   "cell_type": "markdown",
   "metadata": {},
   "source": [
    "## 2. input"
   ]
  },
  {
   "cell_type": "code",
   "execution_count": 2,
   "metadata": {},
   "outputs": [
    {
     "name": "stdout",
     "output_type": "stream",
     "text": [
      "<class 'int'>\n",
      "<class 'float'>\n",
      "2 + 3.0 = 5.0\n"
     ]
    }
   ],
   "source": [
    "# <variable> = <data type>(input())\n",
    "a = int(input(\"Nhập a: \"))\n",
    "b = float(input(\"Nhập b: \"))\n",
    "\n",
    "print(type(a))\n",
    "print(type(b))\n",
    "\n",
    "print(f'{a} + {b} = {a+b}')"
   ]
  },
  {
   "cell_type": "code",
   "execution_count": 3,
   "metadata": {},
   "outputs": [
    {
     "data": {
      "text/plain": [
       "False"
      ]
     },
     "execution_count": 3,
     "metadata": {},
     "output_type": "execute_result"
    }
   ],
   "source": [
    "def strToBool (s):\n",
    "    return s.lower() in ('true', '1')\n",
    "s = strToBool(input(\"Nhập bool: \"))\n",
    "s"
   ]
  },
  {
   "attachments": {},
   "cell_type": "markdown",
   "metadata": {},
   "source": [
    "## 3. if/else"
   ]
  },
  {
   "cell_type": "code",
   "execution_count": 4,
   "metadata": {},
   "outputs": [
    {
     "name": "stdout",
     "output_type": "stream",
     "text": [
      "Qua\n"
     ]
    }
   ],
   "source": [
    "myScore = int(input(\"Nhập điểm: \"))\n",
    "\n",
    "if myScore > 10:\n",
    "    print(\"Nhập không hợp lệ\")\n",
    "elif myScore >= 5:\n",
    "    print(\"Qua\")\n",
    "else:\n",
    "    print(\"Tạch\")\n",
    "    "
   ]
  },
  {
   "attachments": {},
   "cell_type": "markdown",
   "metadata": {},
   "source": [
    "## 4. loop "
   ]
  },
  {
   "attachments": {},
   "cell_type": "markdown",
   "metadata": {},
   "source": [
    "### 4.1. for\n",
    "- range(begin, end, step) => chạy từ begin đến end - 1\n",
    "    + mặc định step = 1\n",
    "    + begin = 0\n",
    "- sẽ chạy vào else nếu trong for không break"
   ]
  },
  {
   "cell_type": "code",
   "execution_count": 5,
   "metadata": {},
   "outputs": [
    {
     "name": "stdout",
     "output_type": "stream",
     "text": [
      "2 4 6 8 10 \n",
      "sum = 30\n"
     ]
    }
   ],
   "source": [
    "sum = 0\n",
    "for i in range(2, 11, 2):\n",
    "    sum += i\n",
    "    print(i, end=\" \")\n",
    "\n",
    "    # if i == 6:\n",
    "    #     break\n",
    "else:\n",
    "    print(f'\\nsum = {sum}')"
   ]
  },
  {
   "attachments": {},
   "cell_type": "markdown",
   "metadata": {},
   "source": [
    "### 4.2. while\n",
    "- sẽ chạy vào else nếu trong for không break"
   ]
  },
  {
   "cell_type": "code",
   "execution_count": 6,
   "metadata": {},
   "outputs": [
    {
     "name": "stdout",
     "output_type": "stream",
     "text": [
      "0 2 4 6 8 10 \n",
      "sum = 0\n"
     ]
    }
   ],
   "source": [
    "sum = 0\n",
    "i = 0\n",
    "while i <= 10:\n",
    "    print(i, end=\" \")\n",
    "    i += 2\n",
    "    # if i == 6:\n",
    "    #     break\n",
    "else:\n",
    "    print(f'\\nsum = {sum}')"
   ]
  },
  {
   "attachments": {},
   "cell_type": "markdown",
   "metadata": {},
   "source": [
    "## 5. eval và lambda"
   ]
  },
  {
   "attachments": {},
   "cell_type": "markdown",
   "metadata": {},
   "source": [
    "## 5.1 eval"
   ]
  },
  {
   "cell_type": "code",
   "execution_count": 7,
   "metadata": {},
   "outputs": [
    {
     "name": "stdout",
     "output_type": "stream",
     "text": [
      "6**2 + 2 = 38\n"
     ]
    }
   ],
   "source": [
    "a = int(input(\"Nhập a: \"))\n",
    "b = int(input(\"Nhập b: \"))\n",
    "\n",
    "myEval = f'{a}**2 + {b}'\n",
    "\n",
    "print(f'{myEval} = {eval(myEval)}')"
   ]
  },
  {
   "attachments": {},
   "cell_type": "markdown",
   "metadata": {},
   "source": [
    "### 5.2 lambda \n",
    "+ là một hàm nặc danh (có thể có nhiều tham số như chỉ có 1 biểu thức)"
   ]
  },
  {
   "cell_type": "code",
   "execution_count": 8,
   "metadata": {},
   "outputs": [
    {
     "data": {
      "text/plain": [
       "8"
      ]
     },
     "execution_count": 8,
     "metadata": {},
     "output_type": "execute_result"
    }
   ],
   "source": [
    "myLambda = lambda a,b: a+b\n",
    "myLambda(a, b)"
   ]
  },
  {
   "cell_type": "code",
   "execution_count": 11,
   "metadata": {},
   "outputs": [
    {
     "data": {
      "text/plain": [
       "8"
      ]
     },
     "execution_count": 11,
     "metadata": {},
     "output_type": "execute_result"
    }
   ],
   "source": [
    "def myFuntion (f, x1, x2):\n",
    "    return f(x1, x2)\n",
    "myFuntion(myLambda, 3, 5)"
   ]
  }
 ],
 "metadata": {
  "kernelspec": {
   "display_name": "base",
   "language": "python",
   "name": "python3"
  },
  "language_info": {
   "codemirror_mode": {
    "name": "ipython",
    "version": 3
   },
   "file_extension": ".py",
   "mimetype": "text/x-python",
   "name": "python",
   "nbconvert_exporter": "python",
   "pygments_lexer": "ipython3",
   "version": "3.9.13"
  },
  "orig_nbformat": 4,
  "vscode": {
   "interpreter": {
    "hash": "418291e1de3955cfa7a11c463da689aa6aaa0b527a942b06b336a1db2fe0c421"
   }
  }
 },
 "nbformat": 4,
 "nbformat_minor": 2
}
